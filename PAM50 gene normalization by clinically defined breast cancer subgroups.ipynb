{
 "cells": [
  {
   "cell_type": "code",
   "execution_count": null,
   "metadata": {},
   "outputs": [],
   "source": [
    "import pandas as pd"
   ]
  },
  {
   "cell_type": "code",
   "execution_count": null,
   "metadata": {},
   "outputs": [],
   "source": [
    "#read your PAM50 genes\n",
    "gene_expr = pd.read_csv('./path/to/pam50_genes.txt', sep='\\t', index_col=0)\n",
    "gene_expr.head()"
   ]
  },
  {
   "cell_type": "markdown",
   "metadata": {},
   "source": [
    "## PAM50 genes\n",
    "| CLID   |   Sample_1 |   Sample_2 |     Sample_3 |   Sample_4 |   Sample_5 |   Sample_6 |   Sample_7 |   Sample_8 |   Sample_9 |    Sample_10 |\n",
    "|:-------|-----------:|-----------:|-------------:|-----------:|-----------:|-----------:|-----------:|-----------:|-----------:|-------------:|\n",
    "| CDC20  |    1.74169 |   0.658006 | -0.500287    |   1.59368  |   1.24371  |   3.09567  |   1.14402  |  -0.71377  |    2.79974 |  0.500286    |\n",
    "| KIF2C  |    1.66693 |   0.476314 | -0.322913    |   1.08879  |   1.37673  |   1.2593   |   0.877581 |  -0.771949 |    2.96251 |  0.322913    |\n",
    "| PHGDH  |    1.53828 |  -0.450438 |  9.52667e-10 |  -0.354776 |   2.08242  |   0.415371 |   2.36549  |   0.492217 |    5.6434  | -0.317556    |\n",
    "| CDCA1  |    1.59396 |   2.34256  | -1.3695      |  -0.031503 |   0.788258 |   0.520124 |   0.151055 |  -1.03284  |    1.65673 |  9.45093e-11 |\n",
    "| UBE2T  |    1.41267 |   2.12426  | -0.648622    |   0.539226 |   2.08272  |   1.18369  |   0.24693  |  -0.735035 |    1.16661 | -0.08231     |\n"
   ]
  },
  {
   "cell_type": "code",
   "execution_count": null,
   "metadata": {},
   "outputs": [],
   "source": [
    "#read your IHC class (ERneg_HER2neg, ERpos_HER2neg, HER2pos_ERneg, HER2pos_ERpos, TNBC)\n",
    "classes = pd.read_csv('./path/to/IHC_class.txt', sep='\\t', index_col=0)\n",
    "classes.head()"
   ]
  },
  {
   "cell_type": "markdown",
   "metadata": {},
   "source": [
    "## IHC class\n",
    "| CLID     | Zhao_class    |\n",
    "|:---------|:--------------|\n",
    "| Sample_1 | HER2pos_ERneg |\n",
    "| Sample_2 | HER2pos_ERneg |\n",
    "| Sample_3 | HER2pos_ERneg |\n",
    "| Sample_4 | HER2pos_ERneg |\n",
    "| Sample_5 | HER2pos_ERneg |"
   ]
  },
  {
   "cell_type": "code",
   "execution_count": null,
   "metadata": {},
   "outputs": [],
   "source": [
    "#read the sigma file extracted from the UN323 PAM50 training set\n",
    "sigma = pd.read_csv('./SIGMA.txt', sep='\\t', index_col=0)\n",
    "sigma.head()"
   ]
  },
  {
   "cell_type": "code",
   "execution_count": null,
   "metadata": {},
   "outputs": [],
   "source": [
    "def quantile_centering(expr_matrix, gene_quantile):\n",
    "    \"\"\"Do row centering based on the quantile.\n",
    "    \n",
    "    :param expr_matrix: pandas.DataFrame where row are genes and columns are samples\n",
    "    :param gene_quantile: pandas.DataFrame or Series containig all the genes in the\n",
    "      first parameter and the value of the quantile to be used, i.e. .5 if one wants\n",
    "      to do row centering using the mean.\n",
    "\n",
    "    :return: Centered dataframe.\n",
    "    \"\"\"\n",
    "    res = expr_matrix.copy()\n",
    "    for name, values in expr_matrix.iterrows():\n",
    "        q = gene_quantile.loc[name]\n",
    "        q_value = expr_matrix.loc[name].quantile(q)\n",
    "        res.loc[name] -= q_value\n",
    "    return res"
   ]
  },
  {
   "cell_type": "code",
   "execution_count": null,
   "metadata": {},
   "outputs": [],
   "source": [
    "centered = []\n",
    "# For each class in the test set get the samples and apply the quantiles from the train set\n",
    "for class_ in classes['Zhao_class'].unique():\n",
    "    samples = classes.index[classes['Zhao_class'] == class_]\n",
    "    gene_expr_class = gene_expr[samples]\n",
    "    percentile_group = sigma[class_]\n",
    "    centered.append(quantile_centering(gene_expr_class, percentile_group))\n",
    "result = pd.concat(centered, sort=False, axis=1)\n",
    "result"
   ]
  }
 ],
 "metadata": {
  "kernelspec": {
   "display_name": "Python 3 (ipykernel)",
   "language": "python",
   "name": "python3"
  },
  "language_info": {
   "codemirror_mode": {
    "name": "ipython",
    "version": 3
   },
   "file_extension": ".py",
   "mimetype": "text/x-python",
   "name": "python",
   "nbconvert_exporter": "python",
   "pygments_lexer": "ipython3",
   "version": "3.9.13"
  }
 },
 "nbformat": 4,
 "nbformat_minor": 2
}
